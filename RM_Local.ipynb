{
  "nbformat": 4,
  "nbformat_minor": 0,
  "metadata": {
    "colab": {
      "provenance": [],
      "authorship_tag": "ABX9TyNoel3j63rbMixK84Vbe+K+",
      "include_colab_link": true
    },
    "kernelspec": {
      "name": "python3",
      "display_name": "Python 3"
    },
    "language_info": {
      "name": "python"
    }
  },
  "cells": [
    {
      "cell_type": "markdown",
      "metadata": {
        "id": "view-in-github",
        "colab_type": "text"
      },
      "source": [
        "<a href=\"https://colab.research.google.com/github/Mini-project4ppl/Mini_Project/blob/master/RM_Local.ipynb\" target=\"_parent\"><img src=\"https://colab.research.google.com/assets/colab-badge.svg\" alt=\"Open In Colab\"/></a>"
      ]
    },
    {
      "cell_type": "code",
      "source": [
        "import os\n",
        "import numpy as np\n",
        "from tensorflow.keras.preprocessing.image import ImageDataGenerator\n",
        "import tensorflow as tf\n",
        "\n",
        "# Define the image folder paths and severity levels\n",
        "subfolders = [\n",
        "    ('C:\\\\Users\\\\addep\\\\OneDrive\\\\Documents\\\\diabetic-retinopathy-unziped\\\\main train\\\\main train\\\\0', 0),  # Folder path and severity level 0\n",
        "    ('C:\\\\Users\\\\addep\\\\OneDrive\\\\Documents\\\\diabetic-retinopathy-unziped\\\\main train\\\\main train\\\\1', 1),  # Folder path and severity level 1\n",
        "    ('C:\\\\Users\\\\addep\\\\OneDrive\\\\Documents\\\\diabetic-retinopathy-unziped\\\\main train\\\\main train\\\\2', 2),  # Folder path and severity level 2\n",
        "    ('C:\\\\Users\\\\addep\\\\OneDrive\\\\Documents\\\\diabetic-retinopathy-unziped\\\\main train\\\\main train\\\\3', 3),   # Folder path and severity level 3\n",
        "    ('C:\\\\Users\\\\addep\\\\OneDrive\\\\Documents\\\\diabetic-retinopathy-unziped\\\\main train\\\\main train\\\\4', 4)   # Folder path and severity level 4\n",
        "]\n",
        "\n",
        "# Create the image data generator\n",
        "data_generator = ImageDataGenerator(rescale=1./255)\n",
        "\n",
        "# Load and preprocess the images in batches\n",
        "batch_size = 32\n",
        "input_shape = (64, 64, 3)\n",
        "\n",
        "# Create empty lists for storing the images and labels\n",
        "images = []\n",
        "labels = []\n",
        "\n",
        "for folder_path, severity_level in subfolders:\n",
        "    image_files = os.listdir(folder_path)\n",
        "    for image_file in image_files:\n",
        "        image_path = os.path.join(folder_path, image_file)\n",
        "        images.append(image_path)\n",
        "        labels.append(severity_level)\n",
        "\n",
        "# Convert the lists to numpy arrays\n",
        "images = np.array(images)\n",
        "labels = np.array(labels)\n",
        "\n",
        "# Create the image data generator iterator\n",
        "data_iterator = data_generator.flow_from_directory(\n",
        "    directory='C:\\\\Users\\\\addep\\\\OneDrive\\\\Documents\\\\diabetic-retinopathy-unziped\\\\main train\\\\main train',\n",
        "    classes=None,\n",
        "    class_mode='sparse',\n",
        "    batch_size=batch_size,\n",
        "    shuffle=True,\n",
        "    target_size=input_shape[:2],\n",
        "    interpolation='bilinear'\n",
        ")\n",
        "\n",
        "# Define the logistic regression model\n",
        "model = tf.keras.Sequential([\n",
        "    tf.keras.layers.Flatten(input_shape=input_shape),\n",
        "    tf.keras.layers.Dense(5, activation='softmax')\n",
        "])\n",
        "\n",
        "# Compile the model\n",
        "model.compile(optimizer='adam', loss='sparse_categorical_crossentropy', metrics=['accuracy'])\n",
        "\n",
        "# Train the model\n",
        "model.fit(data_iterator, steps_per_epoch=len(images)//batch_size, epochs=10)\n",
        "\n",
        "# Specify the path and filename for saving the model\n",
        "model_path = 'C:\\\\Users\\\\addep\\\\OneDrive\\\\Documents\\\\regmodel2.h5'\n",
        "\n",
        "# Save the trained model to the specified path\n",
        "model.save(model_path)\n"
      ],
      "metadata": {
        "id": "GYWnZ2Fq03K1",
        "colab": {
          "base_uri": "https://localhost:8080/"
        },
        "outputId": "362c5037-345b-4884-b4c1-9f25a69fe853"
      },
      "execution_count": null,
      "outputs": [
        {
          "output_type": "stream",
          "name": "stdout",
          "text": [
            "Found 4416 images belonging to 5 classes.\n",
            "Epoch 1/10\n",
            "138/138 [==============================] - 441s 3s/step - loss: 1.9792 - accuracy: 0.2246\n",
            "Epoch 2/10\n",
            "138/138 [==============================] - 587s 4s/step - loss: 1.7532 - accuracy: 0.2462\n",
            "Epoch 3/10\n",
            "138/138 [==============================] - 588s 4s/step - loss: 1.8098 - accuracy: 0.2489\n",
            "Epoch 4/10\n",
            "138/138 [==============================] - 736s 5s/step - loss: 1.7538 - accuracy: 0.2586\n",
            "Epoch 5/10\n",
            "138/138 [==============================] - 899s 7s/step - loss: 1.7618 - accuracy: 0.2747\n",
            "Epoch 6/10\n",
            "138/138 [==============================] - 899s 7s/step - loss: 1.6692 - accuracy: 0.2856\n",
            "Epoch 7/10\n",
            "138/138 [==============================] - 894s 6s/step - loss: 1.6602 - accuracy: 0.2892\n",
            "Epoch 8/10\n",
            "138/138 [==============================] - 862s 6s/step - loss: 1.6211 - accuracy: 0.3019\n",
            "Epoch 9/10\n",
            "138/138 [==============================] - 883s 6s/step - loss: 1.7521 - accuracy: 0.2921\n",
            "Epoch 10/10\n",
            "138/138 [==============================] - 891s 6s/step - loss: 1.6553 - accuracy: 0.3084\n"
          ]
        }
      ]
    }
  ]
}