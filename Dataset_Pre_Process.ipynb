{
  "nbformat": 4,
  "nbformat_minor": 0,
  "metadata": {
    "colab": {
      "provenance": [],
      "authorship_tag": "ABX9TyPfR8/UKRCEdmLJ6lL5ShSG",
      "include_colab_link": true
    },
    "kernelspec": {
      "name": "python3",
      "display_name": "Python 3"
    },
    "language_info": {
      "name": "python"
    }
  },
  "cells": [
    {
      "cell_type": "markdown",
      "metadata": {
        "id": "view-in-github",
        "colab_type": "text"
      },
      "source": [
        "<a href=\"https://colab.research.google.com/github/Mini-project4ppl/Mini_Project/blob/master/Dataset_Pre_Process.ipynb\" target=\"_parent\"><img src=\"https://colab.research.google.com/assets/colab-badge.svg\" alt=\"Open In Colab\"/></a>"
      ]
    },
    {
      "cell_type": "code",
      "source": [
        "from google.colab import drive\n",
        "drive.mount(\"/content/drive/\", force_remount=True)"
      ],
      "metadata": {
        "id": "PyALLhFwKQjY",
        "colab": {
          "base_uri": "https://localhost:8080/"
        },
        "outputId": "2b844ed9-3832-43df-a101-798df9236cd3"
      },
      "execution_count": 1,
      "outputs": [
        {
          "output_type": "stream",
          "name": "stdout",
          "text": [
            "Mounted at /content/drive/\n"
          ]
        }
      ]
    },
    {
      "cell_type": "code",
      "source": [
        "import cv2\n",
        "import numpy as np\n",
        "from matplotlib import pyplot as plt\n",
        "import os"
      ],
      "metadata": {
        "id": "2PlW7biUILww"
      },
      "execution_count": null,
      "outputs": []
    },
    {
      "cell_type": "code",
      "source": [
        "# Define paths to input and output directories\n",
        "input_dir1 = '/content/drive/MyDrive/DR_IMAGES'\n",
        "output_dir1 = '/content/drive/MyDrive/DR_IMAGES_CLAHE'"
      ],
      "metadata": {
        "id": "HaAVlgLbITj6"
      },
      "execution_count": null,
      "outputs": []
    },
    {
      "cell_type": "code",
      "execution_count": null,
      "metadata": {
        "id": "8NP6uCb3IaPg"
      },
      "outputs": [],
      "source": [
        "# Define CLAHE parameters\n",
        "clahe = cv2.createCLAHE(clipLimit=7)\n",
        "\n",
        "# Loop through all images in the input directory1\n",
        "for img_name1 in os.listdir(input_dir1):\n",
        "\n",
        "    # Read image\n",
        "    img_path1 = os.path.join(input_dir1, img_name1)\n",
        "    img1 = cv2.imread(img_path1, cv2.IMREAD_GRAYSCALE)\n",
        "\n",
        "    # Apply CLAHE\n",
        "    img_clahe1 = clahe.apply(img1)\n",
        "\n",
        "    # Save CLAHE enhanced image to output directory\n",
        "    img_name_clahe1 = img_name1.split('.')[0] + '_clahe.jpg'\n",
        "    img_path_clahe1 = os.path.join(output_dir1, img_name_clahe1)\n",
        "    cv2.imwrite(img_path_clahe1, img_clahe1)\n"
      ]
    },
    {
      "cell_type": "code",
      "source": [
        "#Define paths to input and output directories(directories containing sub directories)\n",
        "input_dir2 = '/content/drive/MyDrive/DR'\n",
        "output_dir2 = '/content/drive/MyDrive/DR_CLAHE'"
      ],
      "metadata": {
        "id": "ALegYbTh5LYS"
      },
      "execution_count": null,
      "outputs": []
    },
    {
      "cell_type": "code",
      "source": [
        "# Define CLAHE parameters\n",
        "clahe = cv2.createCLAHE(clipLimit=2.0, tileGridSize=(8,8))\n",
        "\n",
        "# Loop through each class directory in the input directory\n",
        "for class_dir in os.listdir(input_dir2):\n",
        "    input_class_path= os.path.join(input_dir2, class_dir)\n",
        "    output_class_path = os.path.join(output_dir2, class_dir)\n",
        "\n",
        "    # Create output class directory if it doesn't exist\n",
        "    if not os.path.exists(output_class_path):\n",
        "        os.makedirs(output_class_path)\n",
        "\n",
        "    # Loop through each image in the class directory\n",
        "    for img_name2 in os.listdir(input_class_path):\n",
        "\n",
        "        # Read image\n",
        "        img_path2 = os.path.join(input_class_path, img_name2)\n",
        "        img2 = cv2.imread(img_path2, cv2.IMREAD_GRAYSCALE)\n",
        "\n",
        "        # Apply CLAHE\n",
        "        img_clahe2 = clahe.apply(img2)\n",
        "\n",
        "        # Save CLAHE enhanced image to output class directory\n",
        "        img_name_clahe2 = img_name2.split('.')[0] + '_clahe.jpg'\n",
        "        img_path_clahe2 = os.path.join(output_class_path, img_name_clahe2)\n",
        "        cv2.imwrite(img_path_clahe2, img_clahe2)\n"
      ],
      "metadata": {
        "id": "ay4P00uP5Nul"
      },
      "execution_count": null,
      "outputs": []
    }
  ]
}